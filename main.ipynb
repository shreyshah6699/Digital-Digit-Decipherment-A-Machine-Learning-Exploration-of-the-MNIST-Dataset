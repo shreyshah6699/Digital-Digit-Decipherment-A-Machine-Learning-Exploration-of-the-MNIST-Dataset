{
 "cells": [
  {
   "cell_type": "code",
   "execution_count": 1,
   "id": "e582efef",
   "metadata": {},
   "outputs": [],
   "source": [
    "# importing all the necessary libraries\n",
    "\n",
    "from sklearn.model_selection import train_test_split\n",
    "from sklearn.neighbors import KNeighborsClassifier\n",
    "from sklearn.metrics import classification_report\n",
    "from sklearn import metrics\n",
    "import idx2numpy\n",
    "\n",
    "from matplotlib import pyplot as plt\n",
    "import numpy as np\n",
    "import pandas as pd\n"
   ]
  },
  {
   "cell_type": "markdown",
   "id": "4841190a",
   "metadata": {},
   "source": [
    "# 8.1 DATASET"
   ]
  },
  {
   "cell_type": "code",
   "execution_count": 2,
   "id": "2afba0ed",
   "metadata": {},
   "outputs": [],
   "source": [
    "X_train = idx2numpy.convert_from_file(r'train-images.idx3-ubyte')\n",
    "X_test = idx2numpy.convert_from_file(r't10k-images.idx3-ubyte')\n",
    "y_train = idx2numpy.convert_from_file('train-labels.idx1-ubyte')\n",
    "y_test = idx2numpy.convert_from_file(r't10k-labels.idx1-ubyte')"
   ]
  },
  {
   "cell_type": "code",
   "execution_count": 3,
   "id": "4f77fcd0",
   "metadata": {},
   "outputs": [],
   "source": [
    "X_train = X_train[:15000]\n",
    "X_test = X_test[:2500]\n",
    "y_train = y_train[:15000]\n",
    "y_test = y_test[:2500]\n",
    "\n"
   ]
  },
  {
   "cell_type": "markdown",
   "id": "108621b0",
   "metadata": {},
   "source": [
    "# 8.2 DATA PREPARATION"
   ]
  },
  {
   "cell_type": "code",
   "execution_count": 4,
   "id": "9a6ba328",
   "metadata": {},
   "outputs": [
    {
     "name": "stdout",
     "output_type": "stream",
     "text": [
      "(15000, 784)\n"
     ]
    }
   ],
   "source": [
    "X_train = X_train.reshape(X_train.shape[0],784)\n",
    "X_test = X_test.reshape(X_test.shape[0],784)\n",
    "\n",
    "#NORMALIZING DATASET\n",
    "\n",
    "X_train = X_train / 255.0\n",
    "X_test = X_test / 255.0\n",
    "print(X_train.shape)"
   ]
  },
  {
   "cell_type": "code",
   "execution_count": 5,
   "id": "67bba4b3",
   "metadata": {},
   "outputs": [
    {
     "name": "stdout",
     "output_type": "stream",
     "text": [
      "(15000, 784) (15000,)\n",
      "(2500, 784) (2500,)\n"
     ]
    }
   ],
   "source": [
    "#printing the shape of dataset after reshaping.\n",
    "print(X_train.shape, y_train.shape)\n",
    "print(X_test.shape, y_test.shape)"
   ]
  },
  {
   "cell_type": "code",
   "execution_count": 6,
   "id": "fbbbd164",
   "metadata": {},
   "outputs": [
    {
     "name": "stdout",
     "output_type": "stream",
     "text": [
      "10 images from training set\n"
     ]
    },
    {
     "data": {
      "image/png": "[encoded data removed]",
      "text/plain": [
       "<Figure size 720x504 with 10 Axes>"
      ]
     },
     "metadata": {
      "needs_background": "light"
     },
     "output_type": "display_data"
    }
   ],
   "source": [
    "#printing 10 images from train dataset\n",
    "\n",
    "print('10 images from training set')\n",
    "fig = plt.figure(figsize=(10, 7))\n",
    "  \n",
    "# setting values to rows and column variables\n",
    "rows = 2\n",
    "columns = 5\n",
    "Image =[0,0,0,0,0,0,0,0,0,0,0]\n",
    "for i in range(1,11):\n",
    "    Image[i] = X_train[i].reshape((28,28))\n",
    "    fig.add_subplot(rows, columns, i)\n",
    "    plt.imshow(Image[i])\n",
    "    plt.axis('off')\n",
    "    plt.title(y_train[i])\n",
    "\n",
    "  "
   ]
  },
  {
   "cell_type": "code",
   "execution_count": 7,
   "id": "3e61da5a",
   "metadata": {},
   "outputs": [
    {
     "name": "stdout",
     "output_type": "stream",
     "text": [
      "10 images from testing set\n"
     ]
    },
    {
     "data": {
      "image/png": "[encoded data removed]",
      "text/plain": [
       "<Figure size 720x504 with 10 Axes>"
      ]
     },
     "metadata": {
      "needs_background": "light"
     },
     "output_type": "display_data"
    }
   ],
   "source": [
    "#printing 10 images from train dataset\n",
    "\n",
    "print('10 images from testing set')\n",
    "fig = plt.figure(figsize=(10, 7))\n",
    "  \n",
    "# setting values to rows and column variables\n",
    "rows = 2\n",
    "columns = 5\n",
    "Image =[0,0,0,0,0,0,0,0,0,0,0]\n",
    "for i in range(1,11):\n",
    "    Image[i] = X_test[i].reshape((28,28))\n",
    "    fig.add_subplot(rows, columns, i)\n",
    "    plt.imshow(Image[i])\n",
    "    plt.axis('off')\n",
    "    plt.title(y_test[i])"
   ]
  },
  {
   "cell_type": "markdown",
   "id": "76246b19",
   "metadata": {},
   "source": [
    "# 8.3 Determining the best value of 'k' as it is a hyper-parameter"
   ]
  },
  {
   "cell_type": "code",
   "execution_count": 8,
   "id": "0fa4069e",
   "metadata": {},
   "outputs": [
    {
     "name": "stdout",
     "output_type": "stream",
     "text": [
      "k=1, accuracy=92.64%\n",
      "k=2, accuracy=91.84%\n",
      "k=3, accuracy=92.92%\n",
      "k=4, accuracy=92.96%\n",
      "k=5, accuracy=92.84%\n",
      "k=6, accuracy=92.44%\n",
      "k=7, accuracy=92.76%\n",
      "k=8, accuracy=92.32%\n",
      "k=9, accuracy=92.48%\n",
      "k=10, accuracy=92.40%\n",
      "k=11, accuracy=92.08%\n",
      "\n",
      "k=4 achieved highest accuracy of 92.96% on validation data\n"
     ]
    }
   ],
   "source": [
    "# list of accuracies for each value of k\n",
    "kVals = [1,2,3,4,5,6,7,8,9,10,11]\n",
    "accuracies = []\n",
    "\n",
    "# loop over kVals\n",
    "for k in kVals:\n",
    "# train the classifier with the current value of `k`\n",
    "    model = KNeighborsClassifier(n_neighbors=k)\n",
    "    model.fit(X_train, y_train)\n",
    "# evaluate the model and print the accuracies list\n",
    "    score = model.score(X_test, y_test)\n",
    "    print(\"k=%d, accuracy=%.2f%%\" % (k, score * 100))\n",
    "    accuracies.append(score)\n",
    "\n",
    "# k with largest accuracy will be chosen for final training\n",
    "# np.argmax returns the indices of the maximum values along an axis\n",
    "i = np.argmax(accuracies)\n",
    "\n",
    "print(\"\\nk=%d achieved highest accuracy of %.2f%% on validation data\" % (kVals[i], accuracies[i] * 100))"
   ]
  },
  {
   "cell_type": "markdown",
   "id": "eb3feb21",
   "metadata": {},
   "source": [
    "# Building and Evaluating the model using the best value of k"
   ]
  },
  {
   "cell_type": "code",
   "execution_count": 9,
   "id": "eceaadc2",
   "metadata": {},
   "outputs": [
    {
     "name": "stdout",
     "output_type": "stream",
     "text": [
      "Accuracy: 0.9296 \n",
      "\n"
     ]
    }
   ],
   "source": [
    "# Now that I know the best value of k, re-train the classifier\n",
    "model = KNeighborsClassifier(n_neighbors=kVals[i])\n",
    "\n",
    "# train the model again\n",
    "model.fit(X_train, y_train)\n",
    "\n",
    "# Predict labels for the test set\n",
    "predictions = model.predict(X_test)\n",
    "\n",
    "# accuracy\n",
    "print(\"Accuracy:\", metrics.accuracy_score(y_true=y_test, y_pred=predictions), \"\\n\")"
   ]
  },
  {
   "cell_type": "code",
   "execution_count": 10,
   "id": "56d821d9",
   "metadata": {},
   "outputs": [
    {
     "name": "stdout",
     "output_type": "stream",
     "text": [
      "Evaluating on test data: \n",
      "              precision    recall  f1-score   support\n",
      "\n",
      "           0       0.92      1.00      0.95       219\n",
      "           1       0.88      0.99      0.93       287\n",
      "           2       0.98      0.89      0.93       276\n",
      "           3       0.90      0.95      0.93       254\n",
      "           4       0.94      0.93      0.94       275\n",
      "           5       0.94      0.92      0.93       221\n",
      "           6       0.96      0.96      0.96       225\n",
      "           7       0.91      0.93      0.92       257\n",
      "           8       0.99      0.82      0.90       242\n",
      "           9       0.92      0.90      0.91       244\n",
      "\n",
      "    accuracy                           0.93      2500\n",
      "   macro avg       0.93      0.93      0.93      2500\n",
      "weighted avg       0.93      0.93      0.93      2500\n",
      "\n"
     ]
    }
   ],
   "source": [
    "# Evaluate performance of model for each of the digits\n",
    "print(\"Evaluating on test data: \")\n",
    "print(classification_report(y_test, predictions))"
   ]
  },
  {
   "cell_type": "code",
   "execution_count": 11,
   "id": "3b725ec5",
   "metadata": {},
   "outputs": [
    {
     "name": "stdout",
     "output_type": "stream",
     "text": [
      "Showing 10 Predicted label with it's corresponding images out of which 7 are correct.\n"
     ]
    },
    {
     "data": {
      "image/png": "[encoded data removed]",
      "text/plain": [
       "<Figure size 720x504 with 10 Axes>"
      ]
     },
     "metadata": {
      "needs_background": "light"
     },
     "output_type": "display_data"
    }
   ],
   "source": [
    "print(\"Showing 10 Predicted label with it's corresponding images out of which 7 are correct.\")\n",
    "fig = plt.figure(figsize=(10, 7))\n",
    "  \n",
    "# setting values to rows and column variables\n",
    "rows = 2\n",
    "columns = 5\n",
    "Image =[0,0,0,0,0,0,0,0,0,0,0]\n",
    "for i in range(1,11):\n",
    "    Image[i] = X_test[i].reshape((28,28))\n",
    "    fig.add_subplot(rows, columns, i)\n",
    "    plt.imshow(Image[i])\n",
    "    plt.axis('off')\n",
    "    plt.title(predictions[i])"
   ]
  },
  {
   "cell_type": "markdown",
   "id": "ef06700f",
   "metadata": {},
   "source": [
    "# 8.4 Retrieval Performance with Original Data"
   ]
  },
  {
   "cell_type": "code",
   "execution_count": 12,
   "id": "85a3ff67",
   "metadata": {},
   "outputs": [
    {
     "name": "stdout",
     "output_type": "stream",
     "text": [
      "k=1, accuracy=92.64%\n",
      "Evaluating on test data: \n",
      "              precision    recall  f1-score   support\n",
      "\n",
      "           0       0.94      1.00      0.96       219\n",
      "           1       0.92      0.99      0.95       287\n",
      "           2       0.97      0.89      0.93       276\n",
      "           3       0.91      0.92      0.91       254\n",
      "           4       0.94      0.90      0.92       275\n",
      "           5       0.92      0.92      0.92       221\n",
      "           6       0.94      0.96      0.95       225\n",
      "           7       0.92      0.94      0.93       257\n",
      "           8       0.95      0.84      0.89       242\n",
      "           9       0.87      0.92      0.89       244\n",
      "\n",
      "    accuracy                           0.93      2500\n",
      "   macro avg       0.93      0.93      0.93      2500\n",
      "weighted avg       0.93      0.93      0.93      2500\n",
      "\n",
      "--------------------------------------------------------------\n",
      "k=2, accuracy=91.84%\n",
      "Evaluating on test data: \n",
      "              precision    recall  f1-score   support\n",
      "\n",
      "           0       0.90      1.00      0.95       219\n",
      "           1       0.87      0.99      0.92       287\n",
      "           2       0.96      0.90      0.93       276\n",
      "           3       0.87      0.96      0.91       254\n",
      "           4       0.92      0.93      0.93       275\n",
      "           5       0.90      0.91      0.90       221\n",
      "           6       0.98      0.95      0.96       225\n",
      "           7       0.91      0.92      0.92       257\n",
      "           8       0.98      0.75      0.85       242\n",
      "           9       0.94      0.87      0.91       244\n",
      "\n",
      "    accuracy                           0.92      2500\n",
      "   macro avg       0.92      0.92      0.92      2500\n",
      "weighted avg       0.92      0.92      0.92      2500\n",
      "\n",
      "--------------------------------------------------------------\n",
      "k=5, accuracy=92.84%\n",
      "Evaluating on test data: \n",
      "              precision    recall  f1-score   support\n",
      "\n",
      "           0       0.94      0.99      0.96       219\n",
      "           1       0.89      0.99      0.94       287\n",
      "           2       0.98      0.91      0.94       276\n",
      "           3       0.91      0.95      0.93       254\n",
      "           4       0.93      0.92      0.92       275\n",
      "           5       0.93      0.93      0.93       221\n",
      "           6       0.94      0.96      0.95       225\n",
      "           7       0.91      0.92      0.92       257\n",
      "           8       0.98      0.82      0.89       242\n",
      "           9       0.90      0.90      0.90       244\n",
      "\n",
      "    accuracy                           0.93      2500\n",
      "   macro avg       0.93      0.93      0.93      2500\n",
      "weighted avg       0.93      0.93      0.93      2500\n",
      "\n",
      "--------------------------------------------------------------\n",
      "k=10, accuracy=92.40%\n",
      "Evaluating on test data: \n",
      "              precision    recall  f1-score   support\n",
      "\n",
      "           0       0.92      1.00      0.96       219\n",
      "           1       0.87      0.99      0.93       287\n",
      "           2       0.98      0.88      0.93       276\n",
      "           3       0.92      0.94      0.93       254\n",
      "           4       0.94      0.92      0.93       275\n",
      "           5       0.93      0.90      0.92       221\n",
      "           6       0.94      0.95      0.94       225\n",
      "           7       0.90      0.91      0.90       257\n",
      "           8       0.99      0.83      0.90       242\n",
      "           9       0.89      0.91      0.90       244\n",
      "\n",
      "    accuracy                           0.92      2500\n",
      "   macro avg       0.93      0.92      0.92      2500\n",
      "weighted avg       0.93      0.92      0.92      2500\n",
      "\n",
      "--------------------------------------------------------------\n",
      "k=20, accuracy=91.20%\n",
      "Evaluating on test data: \n",
      "              precision    recall  f1-score   support\n",
      "\n",
      "           0       0.90      0.99      0.94       219\n",
      "           1       0.85      0.99      0.91       287\n",
      "           2       0.97      0.84      0.90       276\n",
      "           3       0.91      0.95      0.93       254\n",
      "           4       0.94      0.90      0.92       275\n",
      "           5       0.94      0.87      0.90       221\n",
      "           6       0.93      0.96      0.94       225\n",
      "           7       0.89      0.89      0.89       257\n",
      "           8       0.97      0.81      0.88       242\n",
      "           9       0.86      0.92      0.89       244\n",
      "\n",
      "    accuracy                           0.91      2500\n",
      "   macro avg       0.92      0.91      0.91      2500\n",
      "weighted avg       0.92      0.91      0.91      2500\n",
      "\n",
      "--------------------------------------------------------------\n",
      "k=50, accuracy=88.64%\n",
      "Evaluating on test data: \n",
      "              precision    recall  f1-score   support\n",
      "\n",
      "           0       0.90      0.99      0.94       219\n",
      "           1       0.76      0.99      0.86       287\n",
      "           2       0.99      0.75      0.85       276\n",
      "           3       0.91      0.92      0.92       254\n",
      "           4       0.95      0.85      0.90       275\n",
      "           5       0.94      0.86      0.90       221\n",
      "           6       0.91      0.95      0.93       225\n",
      "           7       0.87      0.88      0.87       257\n",
      "           8       0.97      0.76      0.85       242\n",
      "           9       0.80      0.93      0.86       244\n",
      "\n",
      "    accuracy                           0.89      2500\n",
      "   macro avg       0.90      0.89      0.89      2500\n",
      "weighted avg       0.90      0.89      0.89      2500\n",
      "\n",
      "--------------------------------------------------------------\n",
      "k=100, accuracy=86.44%\n",
      "Evaluating on test data: \n",
      "              precision    recall  f1-score   support\n",
      "\n",
      "           0       0.90      0.98      0.94       219\n",
      "           1       0.70      0.99      0.82       287\n",
      "           2       0.98      0.68      0.80       276\n",
      "           3       0.89      0.89      0.89       254\n",
      "           4       0.94      0.84      0.88       275\n",
      "           5       0.94      0.82      0.88       221\n",
      "           6       0.90      0.93      0.92       225\n",
      "           7       0.86      0.87      0.87       257\n",
      "           8       0.94      0.74      0.83       242\n",
      "           9       0.77      0.92      0.84       244\n",
      "\n",
      "    accuracy                           0.86      2500\n",
      "   macro avg       0.88      0.87      0.87      2500\n",
      "weighted avg       0.88      0.86      0.86      2500\n",
      "\n",
      "--------------------------------------------------------------\n",
      "k=200, accuracy=83.16%\n",
      "Evaluating on test data: \n",
      "              precision    recall  f1-score   support\n",
      "\n",
      "           0       0.89      0.97      0.93       219\n",
      "           1       0.63      0.99      0.77       287\n",
      "           2       0.98      0.59      0.73       276\n",
      "           3       0.86      0.88      0.87       254\n",
      "           4       0.93      0.80      0.86       275\n",
      "           5       0.93      0.78      0.85       221\n",
      "           6       0.89      0.91      0.90       225\n",
      "           7       0.85      0.84      0.85       257\n",
      "           8       0.93      0.67      0.78       242\n",
      "           9       0.73      0.91      0.81       244\n",
      "\n",
      "    accuracy                           0.83      2500\n",
      "   macro avg       0.86      0.83      0.83      2500\n",
      "weighted avg       0.86      0.83      0.83      2500\n",
      "\n",
      "--------------------------------------------------------------\n",
      "k=500, accuracy=76.44%\n",
      "Evaluating on test data: \n",
      "              precision    recall  f1-score   support\n",
      "\n",
      "           0       0.87      0.94      0.91       219\n",
      "           1       0.52      0.99      0.68       287\n",
      "           2       0.97      0.44      0.61       276\n",
      "           3       0.77      0.81      0.79       254\n",
      "           4       0.91      0.75      0.82       275\n",
      "           5       0.95      0.62      0.75       221\n",
      "           6       0.83      0.83      0.83       225\n",
      "           7       0.81      0.81      0.81       257\n",
      "           8       0.90      0.58      0.71       242\n",
      "           9       0.69      0.88      0.77       244\n",
      "\n",
      "    accuracy                           0.76      2500\n",
      "   macro avg       0.82      0.77      0.77      2500\n",
      "weighted avg       0.82      0.76      0.76      2500\n",
      "\n",
      "--------------------------------------------------------------\n",
      "k=1000, accuracy=68.76%\n",
      "Evaluating on test data: \n",
      "              precision    recall  f1-score   support\n",
      "\n",
      "           0       0.88      0.88      0.88       219\n",
      "           1       0.43      0.99      0.60       287\n",
      "           2       0.96      0.37      0.53       276\n",
      "           3       0.67      0.70      0.69       254\n",
      "           4       0.86      0.68      0.76       275\n",
      "           5       0.92      0.39      0.55       221\n",
      "           6       0.78      0.76      0.77       225\n",
      "           7       0.80      0.77      0.79       257\n",
      "           8       0.87      0.46      0.60       242\n",
      "           9       0.62      0.86      0.72       244\n",
      "\n",
      "    accuracy                           0.69      2500\n",
      "   macro avg       0.78      0.69      0.69      2500\n",
      "weighted avg       0.77      0.69      0.68      2500\n",
      "\n",
      "--------------------------------------------------------------\n"
     ]
    }
   ],
   "source": [
    "# list of accuracies for each value of k\n",
    "kVals = [1,2,5,10,20,50,100,200,500,1000]\n",
    "accuracies = []\n",
    "\n",
    "# loop over kVals\n",
    "for k in kVals:\n",
    "# train the classifier with the current value of `k`\n",
    "    model = KNeighborsClassifier(n_neighbors=k)\n",
    "    model.fit(X_train, y_train)\n",
    "    predictions = model.predict(X_test)\n",
    "# evaluate the model and print the accuracies list\n",
    "    score = model.score(X_test, y_test)\n",
    "    print(\"k=%d, accuracy=%.2f%%\" % (k, score * 100))\n",
    "    accuracies.append(score)\n",
    "    print(\"Evaluating on test data: \")\n",
    "    print(classification_report(y_test, predictions))\n",
    "    print('--------------------------------------------------------------')"
   ]
  },
  {
   "cell_type": "code",
   "execution_count": 13,
   "id": "6fa4451d",
   "metadata": {},
   "outputs": [],
   "source": [
    "precision = np.array([0.93,0.92,0.93,0.93,0.92,0.90,0.88,0.86,0.82,0.78])\n",
    "K_value = np.array([1,2,5,10,20,50,100,200,500,1000])"
   ]
  },
  {
   "cell_type": "code",
   "execution_count": 14,
   "id": "10994c98",
   "metadata": {},
   "outputs": [
    {
     "data": {
      "image/png": "[encoded data removed]",
      "text/plain": [
       "<Figure size 432x288 with 1 Axes>"
      ]
     },
     "metadata": {
      "needs_background": "light"
     },
     "output_type": "display_data"
    }
   ],
   "source": [
    "plt.title(\"Line graph\")\n",
    "plt.xlabel(\"K_value\")\n",
    "plt.ylabel(\"Precision\")\n",
    "plt.plot(K_value,precision , color =\"red\",)\n",
    "plt.xticks(K_value)\n",
    "plt.yticks(precision)\n",
    "plt.scatter(K_value,precision , color =\"black\",)\n",
    "plt.show()\n"
   ]
  },
  {
   "cell_type": "code",
   "execution_count": 15,
   "id": "fb3f64b7",
   "metadata": {},
   "outputs": [
    {
     "data": {
      "image/png": "[encoded data removed]",
      "text/plain": [
       "<Figure size 432x288 with 1 Axes>"
      ]
     },
     "metadata": {
      "needs_background": "light"
     },
     "output_type": "display_data"
    }
   ],
   "source": [
    "plt.title(\"Scatter plot\")\n",
    "plt.xlabel(\"K_value\")\n",
    "plt.ylabel(\"Precision\")\n",
    "plt.scatter(K_value,precision , color =\"red\",)\n",
    "plt.show()"
   ]
  }
 ],
 "metadata": {
  "kernelspec": {
   "display_name": "Python 3",
   "language": "python",
   "name": "python3"
  },
  "language_info": {
   "codemirror_mode": {
    "name": "ipython",
    "version": 3
   },
   "file_extension": ".py",
   "mimetype": "text/x-python",
   "name": "python",
   "nbconvert_exporter": "python",
   "pygments_lexer": "ipython3",
   "version": "3.8.2"
  }
 },
 "nbformat": 4,
 "nbformat_minor": 5
}
